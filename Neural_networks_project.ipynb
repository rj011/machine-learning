{
  "nbformat": 4,
  "nbformat_minor": 0,
  "metadata": {
    "colab": {
      "name": "Neural_networks_project",
      "provenance": [],
      "authorship_tag": "ABX9TyMEWU/IL1PA4RFVpBwAVJik",
      "include_colab_link": true
    },
    "kernelspec": {
      "name": "python3",
      "display_name": "Python 3"
    }
  },
  "cells": [
    {
      "cell_type": "markdown",
      "metadata": {
        "id": "view-in-github",
        "colab_type": "text"
      },
      "source": [
        "<a href=\"https://colab.research.google.com/github/rj011/machine-learning/blob/main/Neural_networks_project.ipynb\" target=\"_parent\"><img src=\"https://colab.research.google.com/assets/colab-badge.svg\" alt=\"Open In Colab\"/></a>"
      ]
    },
    {
      "cell_type": "code",
      "metadata": {
        "id": "yWZuqpIMADj5"
      },
      "source": [
        "import tensorflow as tf\r\n",
        "mnist= tf.keras.datasets.fashion_mnist.load_data()"
      ],
      "execution_count": null,
      "outputs": []
    },
    {
      "cell_type": "code",
      "metadata": {
        "id": "8LQgdLemA6Ou"
      },
      "source": [
        "(x_train, y_train), (x_test, y_test) = tf.keras.datasets.fashion_mnist.load_data()\r\n"
      ],
      "execution_count": null,
      "outputs": []
    },
    {
      "cell_type": "code",
      "metadata": {
        "colab": {
          "base_uri": "https://localhost:8080/"
        },
        "id": "osnTzZP4BJur",
        "outputId": "ce1e0fd6-ccad-4edb-dcf0-d90b503b8014"
      },
      "source": [
        "model=tf.keras.utils.normalize(x_train, axis=1)\r\n",
        "model=tf.keras.utils.normalize(x_test, axis=1)\r\n",
        "model=tf.keras.models.Sequential()\r\n",
        "model.add(tf.keras.layers.Flatten())\r\n",
        "model.add(tf.keras.layers.Dense(32,input_shape=(28,28,1), activation='relu'))\r\n",
        "model.add(tf.keras.layers.Dense(256, activation='relu'))\r\n",
        "model.add(tf.keras.layers.Dense(256, activation='relu'))\r\n",
        "model.add(tf.keras.layers.Dense(256, activation='relu'))\r\n",
        "model.add(tf.keras.layers.Dense(256, activation='relu'))\r\n",
        "model.add(tf.keras.layers.Dense(256, activation='relu'))\r\n",
        "model.add(tf.keras.layers.Dense(256, activation='relu'))\r\n",
        "model.add(tf.keras.layers.Dense(256, activation='relu'))\r\n",
        "model.add(tf.keras.layers.Dense(256, activation='relu'))\r\n",
        "model.add(tf.keras.layers.Dense(256, activation='relu'))\r\n",
        "\r\n",
        "model.add(tf.keras.layers.Dense(10, activation='softmax'))\r\n",
        "model.compile(optimizer='adam', loss='sparse_categorical_crossentropy', metrics=['accuracy'])\r\n",
        "model.fit(x_train, y_train, epochs=100)"
      ],
      "execution_count": null,
      "outputs": [
        {
          "output_type": "stream",
          "text": [
            "Epoch 1/100\n",
            "1875/1875 [==============================] - 15s 8ms/step - loss: 0.8397 - accuracy: 0.7024\n",
            "Epoch 2/100\n",
            "1875/1875 [==============================] - 14s 8ms/step - loss: 0.5068 - accuracy: 0.8262\n",
            "Epoch 3/100\n",
            "1875/1875 [==============================] - 14s 8ms/step - loss: 0.4559 - accuracy: 0.8421\n",
            "Epoch 4/100\n",
            "1875/1875 [==============================] - 14s 8ms/step - loss: 0.4402 - accuracy: 0.8454\n",
            "Epoch 5/100\n",
            "1875/1875 [==============================] - 14s 8ms/step - loss: 0.4268 - accuracy: 0.8520\n",
            "Epoch 6/100\n",
            "1875/1875 [==============================] - 15s 8ms/step - loss: 0.4198 - accuracy: 0.8537\n",
            "Epoch 7/100\n",
            "1875/1875 [==============================] - 15s 8ms/step - loss: 0.4004 - accuracy: 0.8612\n",
            "Epoch 8/100\n",
            "1875/1875 [==============================] - 14s 8ms/step - loss: 0.4072 - accuracy: 0.8591\n",
            "Epoch 9/100\n",
            "1875/1875 [==============================] - 14s 8ms/step - loss: 0.3860 - accuracy: 0.8659\n",
            "Epoch 10/100\n",
            "1875/1875 [==============================] - 14s 8ms/step - loss: 0.3705 - accuracy: 0.8706\n",
            "Epoch 11/100\n",
            "1875/1875 [==============================] - 14s 8ms/step - loss: 0.3582 - accuracy: 0.8733\n",
            "Epoch 12/100\n",
            "1875/1875 [==============================] - 14s 8ms/step - loss: 0.3625 - accuracy: 0.8723\n",
            "Epoch 13/100\n",
            "1875/1875 [==============================] - 14s 8ms/step - loss: 0.3742 - accuracy: 0.8697\n",
            "Epoch 14/100\n",
            "1875/1875 [==============================] - 14s 8ms/step - loss: 0.3546 - accuracy: 0.8752\n",
            "Epoch 15/100\n",
            "1875/1875 [==============================] - 14s 8ms/step - loss: 0.3513 - accuracy: 0.8740\n",
            "Epoch 16/100\n",
            "1875/1875 [==============================] - 14s 8ms/step - loss: 0.3617 - accuracy: 0.8754\n",
            "Epoch 17/100\n",
            "1875/1875 [==============================] - 14s 8ms/step - loss: 0.3483 - accuracy: 0.8786\n",
            "Epoch 18/100\n",
            "1875/1875 [==============================] - 14s 8ms/step - loss: 0.3405 - accuracy: 0.8791\n",
            "Epoch 19/100\n",
            "1875/1875 [==============================] - 14s 8ms/step - loss: 0.3318 - accuracy: 0.8812\n",
            "Epoch 20/100\n",
            "1875/1875 [==============================] - 14s 8ms/step - loss: 0.3397 - accuracy: 0.8819\n",
            "Epoch 21/100\n",
            "1875/1875 [==============================] - 14s 8ms/step - loss: 0.3322 - accuracy: 0.8846\n",
            "Epoch 22/100\n",
            "1875/1875 [==============================] - 14s 8ms/step - loss: 0.3204 - accuracy: 0.8852\n",
            "Epoch 23/100\n",
            "1875/1875 [==============================] - 14s 8ms/step - loss: 0.3319 - accuracy: 0.8838\n",
            "Epoch 24/100\n",
            "1875/1875 [==============================] - 14s 8ms/step - loss: 0.3575 - accuracy: 0.8732\n",
            "Epoch 25/100\n",
            "1875/1875 [==============================] - 14s 8ms/step - loss: 0.3345 - accuracy: 0.8844\n",
            "Epoch 26/100\n",
            "1875/1875 [==============================] - 14s 8ms/step - loss: 0.3239 - accuracy: 0.8883\n",
            "Epoch 27/100\n",
            "1875/1875 [==============================] - 14s 8ms/step - loss: 0.3430 - accuracy: 0.8791\n",
            "Epoch 28/100\n",
            "1875/1875 [==============================] - 14s 8ms/step - loss: 0.3153 - accuracy: 0.8876\n",
            "Epoch 29/100\n",
            "1875/1875 [==============================] - 15s 8ms/step - loss: 0.3123 - accuracy: 0.8880\n",
            "Epoch 30/100\n",
            "1875/1875 [==============================] - 15s 8ms/step - loss: 0.3160 - accuracy: 0.8869\n",
            "Epoch 31/100\n",
            "1875/1875 [==============================] - 14s 8ms/step - loss: 0.3021 - accuracy: 0.8916\n",
            "Epoch 32/100\n",
            "1875/1875 [==============================] - 15s 8ms/step - loss: 0.3230 - accuracy: 0.8904\n",
            "Epoch 33/100\n",
            "1875/1875 [==============================] - 14s 8ms/step - loss: 0.3220 - accuracy: 0.8869\n",
            "Epoch 34/100\n",
            "1875/1875 [==============================] - 14s 8ms/step - loss: 0.2998 - accuracy: 0.8948\n",
            "Epoch 35/100\n",
            "1875/1875 [==============================] - 14s 8ms/step - loss: 0.3112 - accuracy: 0.8901\n",
            "Epoch 36/100\n",
            "1875/1875 [==============================] - 14s 8ms/step - loss: 0.3198 - accuracy: 0.8880\n",
            "Epoch 37/100\n",
            "1875/1875 [==============================] - 14s 8ms/step - loss: 0.3084 - accuracy: 0.8922\n",
            "Epoch 38/100\n",
            "1875/1875 [==============================] - 14s 8ms/step - loss: 0.3004 - accuracy: 0.8952\n",
            "Epoch 39/100\n",
            "1875/1875 [==============================] - 14s 8ms/step - loss: 0.3048 - accuracy: 0.8906\n",
            "Epoch 40/100\n",
            "1875/1875 [==============================] - 14s 8ms/step - loss: 0.3241 - accuracy: 0.8902\n",
            "Epoch 41/100\n",
            "1875/1875 [==============================] - 14s 8ms/step - loss: 0.3042 - accuracy: 0.8940\n",
            "Epoch 42/100\n",
            "1875/1875 [==============================] - 14s 8ms/step - loss: 0.2939 - accuracy: 0.8968\n",
            "Epoch 43/100\n",
            "1875/1875 [==============================] - 14s 8ms/step - loss: 0.3665 - accuracy: 0.8727\n",
            "Epoch 44/100\n",
            "1875/1875 [==============================] - 14s 8ms/step - loss: 0.3064 - accuracy: 0.8956\n",
            "Epoch 45/100\n",
            "1875/1875 [==============================] - 14s 8ms/step - loss: 0.3084 - accuracy: 0.8916\n",
            "Epoch 46/100\n",
            "1875/1875 [==============================] - 14s 8ms/step - loss: 0.3032 - accuracy: 0.8935\n",
            "Epoch 47/100\n",
            "1875/1875 [==============================] - 14s 8ms/step - loss: 0.2942 - accuracy: 0.8950\n",
            "Epoch 48/100\n",
            "1875/1875 [==============================] - 14s 8ms/step - loss: 0.2967 - accuracy: 0.8968\n",
            "Epoch 49/100\n",
            "1875/1875 [==============================] - 14s 8ms/step - loss: 0.2942 - accuracy: 0.8965\n",
            "Epoch 50/100\n",
            "1875/1875 [==============================] - 14s 8ms/step - loss: 0.3091 - accuracy: 0.8916\n",
            "Epoch 51/100\n",
            "1875/1875 [==============================] - 15s 8ms/step - loss: 0.2851 - accuracy: 0.9008\n",
            "Epoch 52/100\n",
            "1875/1875 [==============================] - 15s 8ms/step - loss: 0.2767 - accuracy: 0.9025\n",
            "Epoch 53/100\n",
            "1875/1875 [==============================] - 14s 8ms/step - loss: 0.2793 - accuracy: 0.9012\n",
            "Epoch 54/100\n",
            "1875/1875 [==============================] - 15s 8ms/step - loss: 0.2811 - accuracy: 0.8976\n",
            "Epoch 55/100\n",
            "1875/1875 [==============================] - 14s 8ms/step - loss: 0.2843 - accuracy: 0.9014\n",
            "Epoch 56/100\n",
            "1875/1875 [==============================] - 14s 8ms/step - loss: 0.2877 - accuracy: 0.9006\n",
            "Epoch 57/100\n",
            "1875/1875 [==============================] - 14s 8ms/step - loss: 0.3759 - accuracy: 0.8814\n",
            "Epoch 58/100\n",
            "1875/1875 [==============================] - 14s 8ms/step - loss: 0.3122 - accuracy: 0.8925\n",
            "Epoch 59/100\n",
            "1875/1875 [==============================] - 14s 8ms/step - loss: 0.3605 - accuracy: 0.8759\n",
            "Epoch 60/100\n",
            "1875/1875 [==============================] - 14s 8ms/step - loss: 0.3699 - accuracy: 0.8722\n",
            "Epoch 61/100\n",
            "1875/1875 [==============================] - 14s 8ms/step - loss: 0.3126 - accuracy: 0.8917\n",
            "Epoch 62/100\n",
            "1875/1875 [==============================] - 14s 8ms/step - loss: 0.3292 - accuracy: 0.8885\n",
            "Epoch 63/100\n",
            "1875/1875 [==============================] - 14s 8ms/step - loss: 0.3145 - accuracy: 0.8887\n",
            "Epoch 64/100\n",
            "1875/1875 [==============================] - 14s 8ms/step - loss: 0.2999 - accuracy: 0.8962\n",
            "Epoch 65/100\n",
            "1875/1875 [==============================] - 14s 8ms/step - loss: 0.3330 - accuracy: 0.8977\n",
            "Epoch 66/100\n",
            "1875/1875 [==============================] - 14s 8ms/step - loss: 0.2719 - accuracy: 0.9053\n",
            "Epoch 67/100\n",
            "1875/1875 [==============================] - 14s 8ms/step - loss: 0.2904 - accuracy: 0.8991\n",
            "Epoch 68/100\n",
            "1875/1875 [==============================] - 14s 8ms/step - loss: 0.2821 - accuracy: 0.9008\n",
            "Epoch 69/100\n",
            "1875/1875 [==============================] - 14s 8ms/step - loss: 0.2765 - accuracy: 0.9021\n",
            "Epoch 70/100\n",
            "1875/1875 [==============================] - 14s 8ms/step - loss: 0.3388 - accuracy: 0.8931\n",
            "Epoch 71/100\n",
            "1875/1875 [==============================] - 14s 8ms/step - loss: 0.2864 - accuracy: 0.8989\n",
            "Epoch 72/100\n",
            "1875/1875 [==============================] - 14s 8ms/step - loss: 0.2781 - accuracy: 0.9038\n",
            "Epoch 73/100\n",
            "1875/1875 [==============================] - 14s 8ms/step - loss: 0.2808 - accuracy: 0.9029\n",
            "Epoch 74/100\n",
            "1875/1875 [==============================] - 15s 8ms/step - loss: 0.3118 - accuracy: 0.8964\n",
            "Epoch 75/100\n",
            "1875/1875 [==============================] - 15s 8ms/step - loss: 0.2848 - accuracy: 0.8992\n",
            "Epoch 76/100\n",
            "1875/1875 [==============================] - 14s 8ms/step - loss: 0.3054 - accuracy: 0.8948\n",
            "Epoch 77/100\n",
            "1875/1875 [==============================] - 14s 8ms/step - loss: 0.2908 - accuracy: 0.8970\n",
            "Epoch 78/100\n",
            "1875/1875 [==============================] - 14s 8ms/step - loss: 0.2821 - accuracy: 0.9015\n",
            "Epoch 79/100\n",
            "1875/1875 [==============================] - 14s 8ms/step - loss: 0.3078 - accuracy: 0.9007\n",
            "Epoch 80/100\n",
            "1875/1875 [==============================] - 14s 8ms/step - loss: 0.3479 - accuracy: 0.8812\n",
            "Epoch 81/100\n",
            "1875/1875 [==============================] - 14s 8ms/step - loss: 0.2790 - accuracy: 0.9001\n",
            "Epoch 82/100\n",
            "1875/1875 [==============================] - 14s 8ms/step - loss: 0.2784 - accuracy: 0.9045\n",
            "Epoch 83/100\n",
            "1875/1875 [==============================] - 14s 8ms/step - loss: 0.2918 - accuracy: 0.8980\n",
            "Epoch 84/100\n",
            "1875/1875 [==============================] - 15s 8ms/step - loss: 0.3005 - accuracy: 0.8993\n",
            "Epoch 85/100\n",
            "1875/1875 [==============================] - 14s 8ms/step - loss: 0.2659 - accuracy: 0.9055\n",
            "Epoch 86/100\n",
            "1875/1875 [==============================] - 14s 8ms/step - loss: 0.2774 - accuracy: 0.9062\n",
            "Epoch 87/100\n",
            "1875/1875 [==============================] - 14s 8ms/step - loss: 0.2847 - accuracy: 0.9008\n",
            "Epoch 88/100\n",
            "1875/1875 [==============================] - 14s 8ms/step - loss: 0.2603 - accuracy: 0.9068\n",
            "Epoch 89/100\n",
            "1875/1875 [==============================] - 14s 8ms/step - loss: 0.3184 - accuracy: 0.8920\n",
            "Epoch 90/100\n",
            "1875/1875 [==============================] - 14s 8ms/step - loss: 0.3186 - accuracy: 0.8933\n",
            "Epoch 91/100\n",
            "1875/1875 [==============================] - 14s 8ms/step - loss: 0.3075 - accuracy: 0.8901\n",
            "Epoch 92/100\n",
            "1875/1875 [==============================] - 14s 8ms/step - loss: 0.3125 - accuracy: 0.8918\n",
            "Epoch 93/100\n",
            "1875/1875 [==============================] - 14s 8ms/step - loss: 0.2842 - accuracy: 0.8976\n",
            "Epoch 94/100\n",
            "1875/1875 [==============================] - 14s 8ms/step - loss: 0.3158 - accuracy: 0.8932\n",
            "Epoch 95/100\n",
            "1875/1875 [==============================] - 14s 8ms/step - loss: 0.2598 - accuracy: 0.9076\n",
            "Epoch 96/100\n",
            "1875/1875 [==============================] - 16s 8ms/step - loss: 0.2664 - accuracy: 0.9055\n",
            "Epoch 97/100\n",
            "1875/1875 [==============================] - 15s 8ms/step - loss: 0.2652 - accuracy: 0.9058\n",
            "Epoch 98/100\n",
            "1875/1875 [==============================] - 14s 8ms/step - loss: 0.2578 - accuracy: 0.9110\n",
            "Epoch 99/100\n",
            "1875/1875 [==============================] - 14s 8ms/step - loss: 0.2633 - accuracy: 0.9053\n",
            "Epoch 100/100\n",
            "1875/1875 [==============================] - 14s 8ms/step - loss: 0.2572 - accuracy: 0.9085\n"
          ],
          "name": "stdout"
        },
        {
          "output_type": "execute_result",
          "data": {
            "text/plain": [
              "<tensorflow.python.keras.callbacks.History at 0x7fbe0f0801d0>"
            ]
          },
          "metadata": {
            "tags": []
          },
          "execution_count": 59
        }
      ]
    },
    {
      "cell_type": "code",
      "metadata": {
        "colab": {
          "base_uri": "https://localhost:8080/"
        },
        "id": "qJAgEwzVBOPD",
        "outputId": "df5c375c-134f-4904-9ea7-8cef25985522"
      },
      "source": [
        "model.summary()"
      ],
      "execution_count": null,
      "outputs": [
        {
          "output_type": "stream",
          "text": [
            "Model: \"sequential_15\"\n",
            "_________________________________________________________________\n",
            "Layer (type)                 Output Shape              Param #   \n",
            "=================================================================\n",
            "flatten_10 (Flatten)         (32, 784)                 0         \n",
            "_________________________________________________________________\n",
            "dense_36 (Dense)             (32, 32)                  25120     \n",
            "_________________________________________________________________\n",
            "dense_37 (Dense)             (32, 128)                 4224      \n",
            "_________________________________________________________________\n",
            "dense_38 (Dense)             (32, 10)                  1290      \n",
            "=================================================================\n",
            "Total params: 30,634\n",
            "Trainable params: 30,634\n",
            "Non-trainable params: 0\n",
            "_________________________________________________________________\n"
          ],
          "name": "stdout"
        }
      ]
    },
    {
      "cell_type": "code",
      "metadata": {
        "colab": {
          "base_uri": "https://localhost:8080/"
        },
        "id": "5NnKa0DbBwC7",
        "outputId": "2504890e-ad28-4113-ee0d-83c172eafa98"
      },
      "source": [
        "scores=model.evaluate(x_test, y_test)\r\n",
        "print(scores)"
      ],
      "execution_count": null,
      "outputs": [
        {
          "output_type": "stream",
          "text": [
            "313/313 [==============================] - 1s 3ms/step - loss: 0.4929 - accuracy: 0.8589\n",
            "[0.4928635358810425, 0.8589000105857849]\n"
          ],
          "name": "stdout"
        }
      ]
    }
  ]
}